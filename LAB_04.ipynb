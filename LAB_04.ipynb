{
  "cells": [
    {
      "cell_type": "markdown",
      "metadata": {
        "id": "view-in-github",
        "colab_type": "text"
      },
      "source": [
        "<a href=\"https://colab.research.google.com/github/ZohaEmaan01/Data-Visualization/blob/main/LAB_04.ipynb\" target=\"_parent\"><img src=\"https://colab.research.google.com/assets/colab-badge.svg\" alt=\"Open In Colab\"/></a>"
      ]
    },
    {
      "cell_type": "markdown",
      "metadata": {
        "id": "PO411sPPVcc6"
      },
      "source": [
        "# Data Science\n",
        "# Assignment '#2 -  Exploratory Data Analysis\n",
        "\n"
      ]
    },
    {
      "cell_type": "code",
      "execution_count": null,
      "metadata": {
        "collapsed": true,
        "id": "5Gl-EKIyVcc7"
      },
      "outputs": [],
      "source": [
        "%matplotlib inline\n",
        "\n",
        "import matplotlib.pyplot as plt\n",
        "import pandas as pd\n",
        "import numpy as np\n",
        "\n",
        "#display wide tables\n",
        "pd.set_option('display.width', 500)\n",
        "pd.set_option('display.max_columns', 100)"
      ]
    },
    {
      "cell_type": "markdown",
      "metadata": {
        "id": "EvnuwXKqVcc8"
      },
      "source": [
        "We have a list of 10,000 movies with IMDB user rating as imdb.txt. We want to perform a exploratory data analysis of this data in Python by using its Pandas library.  We will perform the cleaning, transformation and then visualization on the raw data. This will help us to understand the data for further processing."
      ]
    },
    {
      "cell_type": "code",
      "execution_count": null,
      "metadata": {
        "id": "0DymVRkmVcc8",
        "outputId": "8c51b223-f512-4e5e-f6e0-764b65858761",
        "colab": {
          "base_uri": "https://localhost:8080/"
        }
      },
      "outputs": [
        {
          "output_type": "stream",
          "name": "stdout",
          "text": [
            "tt0111161\tThe Shawshank Redemption (1994)\t1994\t 9.2\t619479\t142 mins.\tCrime|Drama\n",
            "tt0110912\tPulp Fiction (1994)\t1994\t 9.0\t490065\t154 mins.\tCrime|Thriller\n",
            "tt0137523\tFight Club (1999)\t1999\t 8.8\t458173\t139 mins.\tDrama|Mystery|Thriller\n",
            "tt0133093\tThe Matrix (1999)\t1999\t 8.7\t448114\t136 mins.\tAction|Adventure|Sci-Fi\n",
            "tt1375666\tInception (2010)\t2010\t 8.9\t385149\t148 mins.\tAction|Adventure|Sci-Fi|Thriller\n",
            "tt0109830\tForrest Gump (1994)\t1994\t 8.7\t368994\t142 mins.\tComedy|Drama|Romance\n",
            "tt0169547\tAmerican Beauty (1999)\t1999\t 8.6\t338332\t122 mins.\tDrama\n",
            "tt0499549\tAvatar (2009)\t2009\t 8.1\t336855\t162 mins.\tAction|Adventure|Fantasy|Sci-Fi\n",
            "tt0108052\tSchindler's List (1993)\t1993\t 8.9\t325888\t195 mins.\tBiography|Drama|History|War\n",
            "tt0080684\tStar Wars: Episode V - The Empire Strikes Back (1980)\t1980\t 8.8\t320105\t124 mins.\tAction|Adventure|Family|Sci-Fi\n"
          ]
        }
      ],
      "source": [
        "!head imdb.txt\n"
      ]
    },
    {
      "cell_type": "markdown",
      "metadata": {
        "id": "-mjM1eqxVcc9"
      },
      "source": [
        "## 1. Loading data\n",
        "\n",
        "Read the imdb.txt into dataframe named data. The data is tab delimited. The columns names are 'imdbID', 'title', 'year', 'score', 'votes', 'runtime', 'genres'"
      ]
    },
    {
      "cell_type": "code",
      "execution_count": null,
      "metadata": {
        "id": "waShJueHVcc9",
        "outputId": "d10bf712-5f34-4cf3-fe19-c0c4b665e983",
        "colab": {
          "base_uri": "https://localhost:8080/",
          "height": 206
        }
      },
      "outputs": [
        {
          "output_type": "execute_result",
          "data": {
            "text/plain": [
              "      imdbID                            title  year  score   votes    runtime                            genres\n",
              "0  tt0111161  The Shawshank Redemption (1994)  1994    9.2  619479  142 mins.                       Crime|Drama\n",
              "1  tt0110912              Pulp Fiction (1994)  1994    9.0  490065  154 mins.                    Crime|Thriller\n",
              "2  tt0137523                Fight Club (1999)  1999    8.8  458173  139 mins.            Drama|Mystery|Thriller\n",
              "3  tt0133093                The Matrix (1999)  1999    8.7  448114  136 mins.           Action|Adventure|Sci-Fi\n",
              "4  tt1375666                 Inception (2010)  2010    8.9  385149  148 mins.  Action|Adventure|Sci-Fi|Thriller"
            ],
            "text/html": [
              "\n",
              "  <div id=\"df-fafa7d6a-85ae-4e01-9399-961408b30244\">\n",
              "    <div class=\"colab-df-container\">\n",
              "      <div>\n",
              "<style scoped>\n",
              "    .dataframe tbody tr th:only-of-type {\n",
              "        vertical-align: middle;\n",
              "    }\n",
              "\n",
              "    .dataframe tbody tr th {\n",
              "        vertical-align: top;\n",
              "    }\n",
              "\n",
              "    .dataframe thead th {\n",
              "        text-align: right;\n",
              "    }\n",
              "</style>\n",
              "<table border=\"1\" class=\"dataframe\">\n",
              "  <thead>\n",
              "    <tr style=\"text-align: right;\">\n",
              "      <th></th>\n",
              "      <th>imdbID</th>\n",
              "      <th>title</th>\n",
              "      <th>year</th>\n",
              "      <th>score</th>\n",
              "      <th>votes</th>\n",
              "      <th>runtime</th>\n",
              "      <th>genres</th>\n",
              "    </tr>\n",
              "  </thead>\n",
              "  <tbody>\n",
              "    <tr>\n",
              "      <th>0</th>\n",
              "      <td>tt0111161</td>\n",
              "      <td>The Shawshank Redemption (1994)</td>\n",
              "      <td>1994</td>\n",
              "      <td>9.2</td>\n",
              "      <td>619479</td>\n",
              "      <td>142 mins.</td>\n",
              "      <td>Crime|Drama</td>\n",
              "    </tr>\n",
              "    <tr>\n",
              "      <th>1</th>\n",
              "      <td>tt0110912</td>\n",
              "      <td>Pulp Fiction (1994)</td>\n",
              "      <td>1994</td>\n",
              "      <td>9.0</td>\n",
              "      <td>490065</td>\n",
              "      <td>154 mins.</td>\n",
              "      <td>Crime|Thriller</td>\n",
              "    </tr>\n",
              "    <tr>\n",
              "      <th>2</th>\n",
              "      <td>tt0137523</td>\n",
              "      <td>Fight Club (1999)</td>\n",
              "      <td>1999</td>\n",
              "      <td>8.8</td>\n",
              "      <td>458173</td>\n",
              "      <td>139 mins.</td>\n",
              "      <td>Drama|Mystery|Thriller</td>\n",
              "    </tr>\n",
              "    <tr>\n",
              "      <th>3</th>\n",
              "      <td>tt0133093</td>\n",
              "      <td>The Matrix (1999)</td>\n",
              "      <td>1999</td>\n",
              "      <td>8.7</td>\n",
              "      <td>448114</td>\n",
              "      <td>136 mins.</td>\n",
              "      <td>Action|Adventure|Sci-Fi</td>\n",
              "    </tr>\n",
              "    <tr>\n",
              "      <th>4</th>\n",
              "      <td>tt1375666</td>\n",
              "      <td>Inception (2010)</td>\n",
              "      <td>2010</td>\n",
              "      <td>8.9</td>\n",
              "      <td>385149</td>\n",
              "      <td>148 mins.</td>\n",
              "      <td>Action|Adventure|Sci-Fi|Thriller</td>\n",
              "    </tr>\n",
              "  </tbody>\n",
              "</table>\n",
              "</div>\n",
              "      <button class=\"colab-df-convert\" onclick=\"convertToInteractive('df-fafa7d6a-85ae-4e01-9399-961408b30244')\"\n",
              "              title=\"Convert this dataframe to an interactive table.\"\n",
              "              style=\"display:none;\">\n",
              "        \n",
              "  <svg xmlns=\"http://www.w3.org/2000/svg\" height=\"24px\"viewBox=\"0 0 24 24\"\n",
              "       width=\"24px\">\n",
              "    <path d=\"M0 0h24v24H0V0z\" fill=\"none\"/>\n",
              "    <path d=\"M18.56 5.44l.94 2.06.94-2.06 2.06-.94-2.06-.94-.94-2.06-.94 2.06-2.06.94zm-11 1L8.5 8.5l.94-2.06 2.06-.94-2.06-.94L8.5 2.5l-.94 2.06-2.06.94zm10 10l.94 2.06.94-2.06 2.06-.94-2.06-.94-.94-2.06-.94 2.06-2.06.94z\"/><path d=\"M17.41 7.96l-1.37-1.37c-.4-.4-.92-.59-1.43-.59-.52 0-1.04.2-1.43.59L10.3 9.45l-7.72 7.72c-.78.78-.78 2.05 0 2.83L4 21.41c.39.39.9.59 1.41.59.51 0 1.02-.2 1.41-.59l7.78-7.78 2.81-2.81c.8-.78.8-2.07 0-2.86zM5.41 20L4 18.59l7.72-7.72 1.47 1.35L5.41 20z\"/>\n",
              "  </svg>\n",
              "      </button>\n",
              "      \n",
              "  <style>\n",
              "    .colab-df-container {\n",
              "      display:flex;\n",
              "      flex-wrap:wrap;\n",
              "      gap: 12px;\n",
              "    }\n",
              "\n",
              "    .colab-df-convert {\n",
              "      background-color: #E8F0FE;\n",
              "      border: none;\n",
              "      border-radius: 50%;\n",
              "      cursor: pointer;\n",
              "      display: none;\n",
              "      fill: #1967D2;\n",
              "      height: 32px;\n",
              "      padding: 0 0 0 0;\n",
              "      width: 32px;\n",
              "    }\n",
              "\n",
              "    .colab-df-convert:hover {\n",
              "      background-color: #E2EBFA;\n",
              "      box-shadow: 0px 1px 2px rgba(60, 64, 67, 0.3), 0px 1px 3px 1px rgba(60, 64, 67, 0.15);\n",
              "      fill: #174EA6;\n",
              "    }\n",
              "\n",
              "    [theme=dark] .colab-df-convert {\n",
              "      background-color: #3B4455;\n",
              "      fill: #D2E3FC;\n",
              "    }\n",
              "\n",
              "    [theme=dark] .colab-df-convert:hover {\n",
              "      background-color: #434B5C;\n",
              "      box-shadow: 0px 1px 3px 1px rgba(0, 0, 0, 0.15);\n",
              "      filter: drop-shadow(0px 1px 2px rgba(0, 0, 0, 0.3));\n",
              "      fill: #FFFFFF;\n",
              "    }\n",
              "  </style>\n",
              "\n",
              "      <script>\n",
              "        const buttonEl =\n",
              "          document.querySelector('#df-fafa7d6a-85ae-4e01-9399-961408b30244 button.colab-df-convert');\n",
              "        buttonEl.style.display =\n",
              "          google.colab.kernel.accessAllowed ? 'block' : 'none';\n",
              "\n",
              "        async function convertToInteractive(key) {\n",
              "          const element = document.querySelector('#df-fafa7d6a-85ae-4e01-9399-961408b30244');\n",
              "          const dataTable =\n",
              "            await google.colab.kernel.invokeFunction('convertToInteractive',\n",
              "                                                     [key], {});\n",
              "          if (!dataTable) return;\n",
              "\n",
              "          const docLinkHtml = 'Like what you see? Visit the ' +\n",
              "            '<a target=\"_blank\" href=https://colab.research.google.com/notebooks/data_table.ipynb>data table notebook</a>'\n",
              "            + ' to learn more about interactive tables.';\n",
              "          element.innerHTML = '';\n",
              "          dataTable['output_type'] = 'display_data';\n",
              "          await google.colab.output.renderOutput(dataTable, element);\n",
              "          const docLink = document.createElement('div');\n",
              "          docLink.innerHTML = docLinkHtml;\n",
              "          element.appendChild(docLink);\n",
              "        }\n",
              "      </script>\n",
              "    </div>\n",
              "  </div>\n",
              "  "
            ]
          },
          "metadata": {},
          "execution_count": 3
        }
      ],
      "source": [
        "# Your code here\n",
        "cols = ['imdbID', 'title', 'year', 'score', 'votes', 'runtime', 'genres']\n",
        "\n",
        "data = pd.read_csv('imdb.txt', names = cols, delimiter = '\\t')\n",
        "\n",
        "data.head()"
      ]
    },
    {
      "cell_type": "markdown",
      "metadata": {
        "id": "JBb1E3mYVcc9"
      },
      "source": [
        "__Marks = 2__"
      ]
    },
    {
      "cell_type": "markdown",
      "metadata": {
        "id": "oplBrnCIVcc9"
      },
      "source": [
        "Check the data types of each column"
      ]
    },
    {
      "cell_type": "code",
      "execution_count": null,
      "metadata": {
        "id": "m0dp7mpUVcc9",
        "outputId": "8908670e-4e45-4391-9318-624dc1b9c5b7",
        "colab": {
          "base_uri": "https://localhost:8080/"
        }
      },
      "outputs": [
        {
          "output_type": "execute_result",
          "data": {
            "text/plain": [
              "imdbID      object\n",
              "title       object\n",
              "year         int64\n",
              "score      float64\n",
              "votes        int64\n",
              "runtime     object\n",
              "genres      object\n",
              "dtype: object"
            ]
          },
          "metadata": {},
          "execution_count": 4
        }
      ],
      "source": [
        "# Your code here\n",
        "data.dtypes"
      ]
    },
    {
      "cell_type": "markdown",
      "metadata": {
        "id": "MP33fxlDVcc9"
      },
      "source": [
        "__Marks = 1__"
      ]
    },
    {
      "cell_type": "markdown",
      "metadata": {
        "id": "VZvuuhdmVcc-"
      },
      "source": [
        "## 2. Clean the DataFrame\n",
        "\n",
        "The data frame has several problems\n",
        "\n",
        "1. The runtime column is stored as a string\n",
        "2. The genres column has several genres together. This way, it is hard to check which movies are Action movies and so on.\n",
        "3. The movie year is also present in the title\n",
        "\n",
        "\n",
        "### Fix the runtime column\n",
        "Convert the string '142 mins' to number 142."
      ]
    },
    {
      "cell_type": "code",
      "execution_count": null,
      "metadata": {
        "id": "TRJmwtJGVcc-",
        "outputId": "5fd52b79-f81c-4834-d8bc-3d960c32d95d",
        "colab": {
          "base_uri": "https://localhost:8080/"
        }
      },
      "outputs": [
        {
          "output_type": "execute_result",
          "data": {
            "text/plain": [
              "142"
            ]
          },
          "metadata": {},
          "execution_count": 5
        }
      ],
      "source": [
        "# Your code here\n",
        "#run1 = data.iloc[0, 5]\n",
        "#min, unit = run1.split(' ')\n",
        "#data.iloc[0, 5] = int(min)\n",
        "#data.head()\n",
        "\n",
        "\n",
        "# above method will display an error in the next block so instead of changing it in data we'll change the value '142 mins' explicitly\n",
        "int(data.iloc[0,5].split(' ')[0])"
      ]
    },
    {
      "cell_type": "markdown",
      "metadata": {
        "id": "F7hFDgmyVcc-"
      },
      "source": [
        "__Marks = 3__"
      ]
    },
    {
      "cell_type": "markdown",
      "metadata": {
        "id": "LaEKEdBKVcc-"
      },
      "source": [
        "Perform this conversion on every element in the dataframe `data`"
      ]
    },
    {
      "cell_type": "code",
      "execution_count": null,
      "metadata": {
        "id": "H92usme0Vcc-",
        "outputId": "9dafcb53-3180-4f6e-9f58-b1aa1e395ba9",
        "colab": {
          "base_uri": "https://localhost:8080/",
          "height": 206
        }
      },
      "outputs": [
        {
          "output_type": "execute_result",
          "data": {
            "text/plain": [
              "      imdbID                            title  year  score   votes  runtime                            genres\n",
              "0  tt0111161  The Shawshank Redemption (1994)  1994    9.2  619479      142                       Crime|Drama\n",
              "1  tt0110912              Pulp Fiction (1994)  1994    9.0  490065      154                    Crime|Thriller\n",
              "2  tt0137523                Fight Club (1999)  1999    8.8  458173      139            Drama|Mystery|Thriller\n",
              "3  tt0133093                The Matrix (1999)  1999    8.7  448114      136           Action|Adventure|Sci-Fi\n",
              "4  tt1375666                 Inception (2010)  2010    8.9  385149      148  Action|Adventure|Sci-Fi|Thriller"
            ],
            "text/html": [
              "\n",
              "  <div id=\"df-8671132b-3320-425f-9de8-6eac3cda99f4\">\n",
              "    <div class=\"colab-df-container\">\n",
              "      <div>\n",
              "<style scoped>\n",
              "    .dataframe tbody tr th:only-of-type {\n",
              "        vertical-align: middle;\n",
              "    }\n",
              "\n",
              "    .dataframe tbody tr th {\n",
              "        vertical-align: top;\n",
              "    }\n",
              "\n",
              "    .dataframe thead th {\n",
              "        text-align: right;\n",
              "    }\n",
              "</style>\n",
              "<table border=\"1\" class=\"dataframe\">\n",
              "  <thead>\n",
              "    <tr style=\"text-align: right;\">\n",
              "      <th></th>\n",
              "      <th>imdbID</th>\n",
              "      <th>title</th>\n",
              "      <th>year</th>\n",
              "      <th>score</th>\n",
              "      <th>votes</th>\n",
              "      <th>runtime</th>\n",
              "      <th>genres</th>\n",
              "    </tr>\n",
              "  </thead>\n",
              "  <tbody>\n",
              "    <tr>\n",
              "      <th>0</th>\n",
              "      <td>tt0111161</td>\n",
              "      <td>The Shawshank Redemption (1994)</td>\n",
              "      <td>1994</td>\n",
              "      <td>9.2</td>\n",
              "      <td>619479</td>\n",
              "      <td>142</td>\n",
              "      <td>Crime|Drama</td>\n",
              "    </tr>\n",
              "    <tr>\n",
              "      <th>1</th>\n",
              "      <td>tt0110912</td>\n",
              "      <td>Pulp Fiction (1994)</td>\n",
              "      <td>1994</td>\n",
              "      <td>9.0</td>\n",
              "      <td>490065</td>\n",
              "      <td>154</td>\n",
              "      <td>Crime|Thriller</td>\n",
              "    </tr>\n",
              "    <tr>\n",
              "      <th>2</th>\n",
              "      <td>tt0137523</td>\n",
              "      <td>Fight Club (1999)</td>\n",
              "      <td>1999</td>\n",
              "      <td>8.8</td>\n",
              "      <td>458173</td>\n",
              "      <td>139</td>\n",
              "      <td>Drama|Mystery|Thriller</td>\n",
              "    </tr>\n",
              "    <tr>\n",
              "      <th>3</th>\n",
              "      <td>tt0133093</td>\n",
              "      <td>The Matrix (1999)</td>\n",
              "      <td>1999</td>\n",
              "      <td>8.7</td>\n",
              "      <td>448114</td>\n",
              "      <td>136</td>\n",
              "      <td>Action|Adventure|Sci-Fi</td>\n",
              "    </tr>\n",
              "    <tr>\n",
              "      <th>4</th>\n",
              "      <td>tt1375666</td>\n",
              "      <td>Inception (2010)</td>\n",
              "      <td>2010</td>\n",
              "      <td>8.9</td>\n",
              "      <td>385149</td>\n",
              "      <td>148</td>\n",
              "      <td>Action|Adventure|Sci-Fi|Thriller</td>\n",
              "    </tr>\n",
              "  </tbody>\n",
              "</table>\n",
              "</div>\n",
              "      <button class=\"colab-df-convert\" onclick=\"convertToInteractive('df-8671132b-3320-425f-9de8-6eac3cda99f4')\"\n",
              "              title=\"Convert this dataframe to an interactive table.\"\n",
              "              style=\"display:none;\">\n",
              "        \n",
              "  <svg xmlns=\"http://www.w3.org/2000/svg\" height=\"24px\"viewBox=\"0 0 24 24\"\n",
              "       width=\"24px\">\n",
              "    <path d=\"M0 0h24v24H0V0z\" fill=\"none\"/>\n",
              "    <path d=\"M18.56 5.44l.94 2.06.94-2.06 2.06-.94-2.06-.94-.94-2.06-.94 2.06-2.06.94zm-11 1L8.5 8.5l.94-2.06 2.06-.94-2.06-.94L8.5 2.5l-.94 2.06-2.06.94zm10 10l.94 2.06.94-2.06 2.06-.94-2.06-.94-.94-2.06-.94 2.06-2.06.94z\"/><path d=\"M17.41 7.96l-1.37-1.37c-.4-.4-.92-.59-1.43-.59-.52 0-1.04.2-1.43.59L10.3 9.45l-7.72 7.72c-.78.78-.78 2.05 0 2.83L4 21.41c.39.39.9.59 1.41.59.51 0 1.02-.2 1.41-.59l7.78-7.78 2.81-2.81c.8-.78.8-2.07 0-2.86zM5.41 20L4 18.59l7.72-7.72 1.47 1.35L5.41 20z\"/>\n",
              "  </svg>\n",
              "      </button>\n",
              "      \n",
              "  <style>\n",
              "    .colab-df-container {\n",
              "      display:flex;\n",
              "      flex-wrap:wrap;\n",
              "      gap: 12px;\n",
              "    }\n",
              "\n",
              "    .colab-df-convert {\n",
              "      background-color: #E8F0FE;\n",
              "      border: none;\n",
              "      border-radius: 50%;\n",
              "      cursor: pointer;\n",
              "      display: none;\n",
              "      fill: #1967D2;\n",
              "      height: 32px;\n",
              "      padding: 0 0 0 0;\n",
              "      width: 32px;\n",
              "    }\n",
              "\n",
              "    .colab-df-convert:hover {\n",
              "      background-color: #E2EBFA;\n",
              "      box-shadow: 0px 1px 2px rgba(60, 64, 67, 0.3), 0px 1px 3px 1px rgba(60, 64, 67, 0.15);\n",
              "      fill: #174EA6;\n",
              "    }\n",
              "\n",
              "    [theme=dark] .colab-df-convert {\n",
              "      background-color: #3B4455;\n",
              "      fill: #D2E3FC;\n",
              "    }\n",
              "\n",
              "    [theme=dark] .colab-df-convert:hover {\n",
              "      background-color: #434B5C;\n",
              "      box-shadow: 0px 1px 3px 1px rgba(0, 0, 0, 0.15);\n",
              "      filter: drop-shadow(0px 1px 2px rgba(0, 0, 0, 0.3));\n",
              "      fill: #FFFFFF;\n",
              "    }\n",
              "  </style>\n",
              "\n",
              "      <script>\n",
              "        const buttonEl =\n",
              "          document.querySelector('#df-8671132b-3320-425f-9de8-6eac3cda99f4 button.colab-df-convert');\n",
              "        buttonEl.style.display =\n",
              "          google.colab.kernel.accessAllowed ? 'block' : 'none';\n",
              "\n",
              "        async function convertToInteractive(key) {\n",
              "          const element = document.querySelector('#df-8671132b-3320-425f-9de8-6eac3cda99f4');\n",
              "          const dataTable =\n",
              "            await google.colab.kernel.invokeFunction('convertToInteractive',\n",
              "                                                     [key], {});\n",
              "          if (!dataTable) return;\n",
              "\n",
              "          const docLinkHtml = 'Like what you see? Visit the ' +\n",
              "            '<a target=\"_blank\" href=https://colab.research.google.com/notebooks/data_table.ipynb>data table notebook</a>'\n",
              "            + ' to learn more about interactive tables.';\n",
              "          element.innerHTML = '';\n",
              "          dataTable['output_type'] = 'display_data';\n",
              "          await google.colab.output.renderOutput(dataTable, element);\n",
              "          const docLink = document.createElement('div');\n",
              "          docLink.innerHTML = docLinkHtml;\n",
              "          element.appendChild(docLink);\n",
              "        }\n",
              "      </script>\n",
              "    </div>\n",
              "  </div>\n",
              "  "
            ]
          },
          "metadata": {},
          "execution_count": 6
        }
      ],
      "source": [
        "# Your code here\n",
        "data_rt = data['runtime'].str.split(' ', expand = True)\n",
        "\n",
        "data['runtime'] = data_rt[0].astype(int)\n",
        "\n",
        "data.head()"
      ]
    },
    {
      "cell_type": "markdown",
      "metadata": {
        "id": "yFLBjuvQVcc-"
      },
      "source": [
        "__Marks = 2__"
      ]
    },
    {
      "cell_type": "markdown",
      "metadata": {
        "id": "N6tiGD71Vcc-"
      },
      "source": [
        "### Split the genres"
      ]
    },
    {
      "cell_type": "markdown",
      "metadata": {
        "id": "vjoyYWx7Vcc-"
      },
      "source": [
        "We would like to split the genres column into many columns. Each new column will correspond to a single genre, and each cell will be True or False.\n",
        "\n",
        "First, we would like to find the all the unique genres present in any record. Its better to sort the genres to locate easily."
      ]
    },
    {
      "cell_type": "code",
      "execution_count": null,
      "metadata": {
        "id": "DUtjuHLmVcc-",
        "outputId": "877405cb-cdef-4278-ef9a-27dd0751bb53",
        "colab": {
          "base_uri": "https://localhost:8080/"
        }
      },
      "outputs": [
        {
          "output_type": "execute_result",
          "data": {
            "text/plain": [
              "array(['Action', 'Adult', 'Adventure', 'Animation', 'Biography', 'Comedy',\n",
              "       'Crime', 'Drama', 'Family', 'Fantasy', 'Film-Noir', 'History',\n",
              "       'Horror', 'Music', 'Musical', 'Mystery', 'News', 'Reality-TV',\n",
              "       'Romance', 'Sci-Fi', 'Sport', 'Thriller', 'War', 'Western'],\n",
              "      dtype=object)"
            ]
          },
          "metadata": {},
          "execution_count": 7
        }
      ],
      "source": [
        "#determine the unique genres\n",
        "\n",
        "gen_cols = data['genres'].str.split('|')\n",
        "gen_cols = gen_cols.dropna()\n",
        "gen_cols = gen_cols.explode()\n",
        "sorted_genres = gen_cols.sort_values()\n",
        "genres = sorted_genres.unique()\n",
        "\n",
        "genres\n"
      ]
    },
    {
      "cell_type": "markdown",
      "metadata": {
        "id": "uI5Tieu0Vcc-"
      },
      "source": [
        "__Marks = 4__"
      ]
    },
    {
      "cell_type": "markdown",
      "metadata": {
        "id": "ugGzpllLVcc-"
      },
      "source": [
        "Then make a column for each genre"
      ]
    },
    {
      "cell_type": "code",
      "execution_count": null,
      "metadata": {
        "id": "0o7yRTUlVcc-",
        "outputId": "0fd6e4f1-d669-471c-b22a-29b6c98f2e67",
        "colab": {
          "base_uri": "https://localhost:8080/",
          "height": 748
        }
      },
      "outputs": [
        {
          "output_type": "execute_result",
          "data": {
            "text/plain": [
              "         imdbID                            title  year  score   votes  runtime                            genres  Action  Adult  Adventure  Animation  Biography  Comedy  Crime  Drama  Family  Fantasy  Film-Noir  History  Horror  Music  Musical  Mystery   News  Reality-TV  Romance  Sci-Fi  Sport  Thriller    War  Western\n",
              "0     tt0111161  The Shawshank Redemption (1994)  1994    9.2  619479      142                       Crime|Drama   False  False      False      False      False   False   True   True   False    False      False    False   False  False    False    False  False       False    False   False  False     False  False    False\n",
              "1     tt0110912              Pulp Fiction (1994)  1994    9.0  490065      154                    Crime|Thriller   False  False      False      False      False   False   True  False   False    False      False    False   False  False    False    False  False       False    False   False  False      True  False    False\n",
              "2     tt0137523                Fight Club (1999)  1999    8.8  458173      139            Drama|Mystery|Thriller   False  False      False      False      False   False  False   True   False    False      False    False   False  False    False     True  False       False    False   False  False      True  False    False\n",
              "3     tt0133093                The Matrix (1999)  1999    8.7  448114      136           Action|Adventure|Sci-Fi    True  False       True      False      False   False  False  False   False    False      False    False   False  False    False    False  False       False    False    True  False     False  False    False\n",
              "4     tt1375666                 Inception (2010)  2010    8.9  385149      148  Action|Adventure|Sci-Fi|Thriller    True  False       True      False      False   False  False  False   False    False      False    False   False  False    False    False  False       False    False    True  False      True  False    False\n",
              "...         ...                              ...   ...    ...     ...      ...                               ...     ...    ...        ...        ...        ...     ...    ...    ...     ...      ...        ...      ...     ...    ...      ...      ...    ...         ...      ...     ...    ...       ...    ...      ...\n",
              "9995  tt0807721                   Meduzot (2007)  2007    7.0    1357       78                             Drama   False  False      False      False      False   False  False   True   False    False      False    False   False  False    False    False  False       False    False   False  False     False  False    False\n",
              "9996  tt0339642            Daltry Calhoun (2005)  2005    5.2    1357      100        Comedy|Drama|Music|Romance   False  False      False      False      False    True  False   True   False    False      False    False   False   True    False    False  False       False     True   False  False     False  False    False\n",
              "9997  tt0060880    The Quiller Memorandum (1966)  1966    6.5    1356      104            Drama|Mystery|Thriller   False  False      False      False      False   False  False   True   False    False      False    False   False  False    False     True  False       False    False   False  False      True  False    False\n",
              "9998  tt0152836                      Taal (1999)  1999    6.5    1356      179                   Musical|Romance   False  False      False      False      False   False  False  False   False    False      False    False   False  False     True    False  False       False     True   False  False     False  False    False\n",
              "9999  tt0279977            The Navigators (2001)  2001    6.9    1356       96                      Comedy|Drama   False  False      False      False      False    True  False   True   False    False      False    False   False  False    False    False  False       False    False   False  False     False  False    False\n",
              "\n",
              "[10000 rows x 31 columns]"
            ],
            "text/html": [
              "\n",
              "  <div id=\"df-1f1a0edc-4227-41d7-8e65-0c69e357e9bb\">\n",
              "    <div class=\"colab-df-container\">\n",
              "      <div>\n",
              "<style scoped>\n",
              "    .dataframe tbody tr th:only-of-type {\n",
              "        vertical-align: middle;\n",
              "    }\n",
              "\n",
              "    .dataframe tbody tr th {\n",
              "        vertical-align: top;\n",
              "    }\n",
              "\n",
              "    .dataframe thead th {\n",
              "        text-align: right;\n",
              "    }\n",
              "</style>\n",
              "<table border=\"1\" class=\"dataframe\">\n",
              "  <thead>\n",
              "    <tr style=\"text-align: right;\">\n",
              "      <th></th>\n",
              "      <th>imdbID</th>\n",
              "      <th>title</th>\n",
              "      <th>year</th>\n",
              "      <th>score</th>\n",
              "      <th>votes</th>\n",
              "      <th>runtime</th>\n",
              "      <th>genres</th>\n",
              "      <th>Action</th>\n",
              "      <th>Adult</th>\n",
              "      <th>Adventure</th>\n",
              "      <th>Animation</th>\n",
              "      <th>Biography</th>\n",
              "      <th>Comedy</th>\n",
              "      <th>Crime</th>\n",
              "      <th>Drama</th>\n",
              "      <th>Family</th>\n",
              "      <th>Fantasy</th>\n",
              "      <th>Film-Noir</th>\n",
              "      <th>History</th>\n",
              "      <th>Horror</th>\n",
              "      <th>Music</th>\n",
              "      <th>Musical</th>\n",
              "      <th>Mystery</th>\n",
              "      <th>News</th>\n",
              "      <th>Reality-TV</th>\n",
              "      <th>Romance</th>\n",
              "      <th>Sci-Fi</th>\n",
              "      <th>Sport</th>\n",
              "      <th>Thriller</th>\n",
              "      <th>War</th>\n",
              "      <th>Western</th>\n",
              "    </tr>\n",
              "  </thead>\n",
              "  <tbody>\n",
              "    <tr>\n",
              "      <th>0</th>\n",
              "      <td>tt0111161</td>\n",
              "      <td>The Shawshank Redemption (1994)</td>\n",
              "      <td>1994</td>\n",
              "      <td>9.2</td>\n",
              "      <td>619479</td>\n",
              "      <td>142</td>\n",
              "      <td>Crime|Drama</td>\n",
              "      <td>False</td>\n",
              "      <td>False</td>\n",
              "      <td>False</td>\n",
              "      <td>False</td>\n",
              "      <td>False</td>\n",
              "      <td>False</td>\n",
              "      <td>True</td>\n",
              "      <td>True</td>\n",
              "      <td>False</td>\n",
              "      <td>False</td>\n",
              "      <td>False</td>\n",
              "      <td>False</td>\n",
              "      <td>False</td>\n",
              "      <td>False</td>\n",
              "      <td>False</td>\n",
              "      <td>False</td>\n",
              "      <td>False</td>\n",
              "      <td>False</td>\n",
              "      <td>False</td>\n",
              "      <td>False</td>\n",
              "      <td>False</td>\n",
              "      <td>False</td>\n",
              "      <td>False</td>\n",
              "      <td>False</td>\n",
              "    </tr>\n",
              "    <tr>\n",
              "      <th>1</th>\n",
              "      <td>tt0110912</td>\n",
              "      <td>Pulp Fiction (1994)</td>\n",
              "      <td>1994</td>\n",
              "      <td>9.0</td>\n",
              "      <td>490065</td>\n",
              "      <td>154</td>\n",
              "      <td>Crime|Thriller</td>\n",
              "      <td>False</td>\n",
              "      <td>False</td>\n",
              "      <td>False</td>\n",
              "      <td>False</td>\n",
              "      <td>False</td>\n",
              "      <td>False</td>\n",
              "      <td>True</td>\n",
              "      <td>False</td>\n",
              "      <td>False</td>\n",
              "      <td>False</td>\n",
              "      <td>False</td>\n",
              "      <td>False</td>\n",
              "      <td>False</td>\n",
              "      <td>False</td>\n",
              "      <td>False</td>\n",
              "      <td>False</td>\n",
              "      <td>False</td>\n",
              "      <td>False</td>\n",
              "      <td>False</td>\n",
              "      <td>False</td>\n",
              "      <td>False</td>\n",
              "      <td>True</td>\n",
              "      <td>False</td>\n",
              "      <td>False</td>\n",
              "    </tr>\n",
              "    <tr>\n",
              "      <th>2</th>\n",
              "      <td>tt0137523</td>\n",
              "      <td>Fight Club (1999)</td>\n",
              "      <td>1999</td>\n",
              "      <td>8.8</td>\n",
              "      <td>458173</td>\n",
              "      <td>139</td>\n",
              "      <td>Drama|Mystery|Thriller</td>\n",
              "      <td>False</td>\n",
              "      <td>False</td>\n",
              "      <td>False</td>\n",
              "      <td>False</td>\n",
              "      <td>False</td>\n",
              "      <td>False</td>\n",
              "      <td>False</td>\n",
              "      <td>True</td>\n",
              "      <td>False</td>\n",
              "      <td>False</td>\n",
              "      <td>False</td>\n",
              "      <td>False</td>\n",
              "      <td>False</td>\n",
              "      <td>False</td>\n",
              "      <td>False</td>\n",
              "      <td>True</td>\n",
              "      <td>False</td>\n",
              "      <td>False</td>\n",
              "      <td>False</td>\n",
              "      <td>False</td>\n",
              "      <td>False</td>\n",
              "      <td>True</td>\n",
              "      <td>False</td>\n",
              "      <td>False</td>\n",
              "    </tr>\n",
              "    <tr>\n",
              "      <th>3</th>\n",
              "      <td>tt0133093</td>\n",
              "      <td>The Matrix (1999)</td>\n",
              "      <td>1999</td>\n",
              "      <td>8.7</td>\n",
              "      <td>448114</td>\n",
              "      <td>136</td>\n",
              "      <td>Action|Adventure|Sci-Fi</td>\n",
              "      <td>True</td>\n",
              "      <td>False</td>\n",
              "      <td>True</td>\n",
              "      <td>False</td>\n",
              "      <td>False</td>\n",
              "      <td>False</td>\n",
              "      <td>False</td>\n",
              "      <td>False</td>\n",
              "      <td>False</td>\n",
              "      <td>False</td>\n",
              "      <td>False</td>\n",
              "      <td>False</td>\n",
              "      <td>False</td>\n",
              "      <td>False</td>\n",
              "      <td>False</td>\n",
              "      <td>False</td>\n",
              "      <td>False</td>\n",
              "      <td>False</td>\n",
              "      <td>False</td>\n",
              "      <td>True</td>\n",
              "      <td>False</td>\n",
              "      <td>False</td>\n",
              "      <td>False</td>\n",
              "      <td>False</td>\n",
              "    </tr>\n",
              "    <tr>\n",
              "      <th>4</th>\n",
              "      <td>tt1375666</td>\n",
              "      <td>Inception (2010)</td>\n",
              "      <td>2010</td>\n",
              "      <td>8.9</td>\n",
              "      <td>385149</td>\n",
              "      <td>148</td>\n",
              "      <td>Action|Adventure|Sci-Fi|Thriller</td>\n",
              "      <td>True</td>\n",
              "      <td>False</td>\n",
              "      <td>True</td>\n",
              "      <td>False</td>\n",
              "      <td>False</td>\n",
              "      <td>False</td>\n",
              "      <td>False</td>\n",
              "      <td>False</td>\n",
              "      <td>False</td>\n",
              "      <td>False</td>\n",
              "      <td>False</td>\n",
              "      <td>False</td>\n",
              "      <td>False</td>\n",
              "      <td>False</td>\n",
              "      <td>False</td>\n",
              "      <td>False</td>\n",
              "      <td>False</td>\n",
              "      <td>False</td>\n",
              "      <td>False</td>\n",
              "      <td>True</td>\n",
              "      <td>False</td>\n",
              "      <td>True</td>\n",
              "      <td>False</td>\n",
              "      <td>False</td>\n",
              "    </tr>\n",
              "    <tr>\n",
              "      <th>...</th>\n",
              "      <td>...</td>\n",
              "      <td>...</td>\n",
              "      <td>...</td>\n",
              "      <td>...</td>\n",
              "      <td>...</td>\n",
              "      <td>...</td>\n",
              "      <td>...</td>\n",
              "      <td>...</td>\n",
              "      <td>...</td>\n",
              "      <td>...</td>\n",
              "      <td>...</td>\n",
              "      <td>...</td>\n",
              "      <td>...</td>\n",
              "      <td>...</td>\n",
              "      <td>...</td>\n",
              "      <td>...</td>\n",
              "      <td>...</td>\n",
              "      <td>...</td>\n",
              "      <td>...</td>\n",
              "      <td>...</td>\n",
              "      <td>...</td>\n",
              "      <td>...</td>\n",
              "      <td>...</td>\n",
              "      <td>...</td>\n",
              "      <td>...</td>\n",
              "      <td>...</td>\n",
              "      <td>...</td>\n",
              "      <td>...</td>\n",
              "      <td>...</td>\n",
              "      <td>...</td>\n",
              "      <td>...</td>\n",
              "    </tr>\n",
              "    <tr>\n",
              "      <th>9995</th>\n",
              "      <td>tt0807721</td>\n",
              "      <td>Meduzot (2007)</td>\n",
              "      <td>2007</td>\n",
              "      <td>7.0</td>\n",
              "      <td>1357</td>\n",
              "      <td>78</td>\n",
              "      <td>Drama</td>\n",
              "      <td>False</td>\n",
              "      <td>False</td>\n",
              "      <td>False</td>\n",
              "      <td>False</td>\n",
              "      <td>False</td>\n",
              "      <td>False</td>\n",
              "      <td>False</td>\n",
              "      <td>True</td>\n",
              "      <td>False</td>\n",
              "      <td>False</td>\n",
              "      <td>False</td>\n",
              "      <td>False</td>\n",
              "      <td>False</td>\n",
              "      <td>False</td>\n",
              "      <td>False</td>\n",
              "      <td>False</td>\n",
              "      <td>False</td>\n",
              "      <td>False</td>\n",
              "      <td>False</td>\n",
              "      <td>False</td>\n",
              "      <td>False</td>\n",
              "      <td>False</td>\n",
              "      <td>False</td>\n",
              "      <td>False</td>\n",
              "    </tr>\n",
              "    <tr>\n",
              "      <th>9996</th>\n",
              "      <td>tt0339642</td>\n",
              "      <td>Daltry Calhoun (2005)</td>\n",
              "      <td>2005</td>\n",
              "      <td>5.2</td>\n",
              "      <td>1357</td>\n",
              "      <td>100</td>\n",
              "      <td>Comedy|Drama|Music|Romance</td>\n",
              "      <td>False</td>\n",
              "      <td>False</td>\n",
              "      <td>False</td>\n",
              "      <td>False</td>\n",
              "      <td>False</td>\n",
              "      <td>True</td>\n",
              "      <td>False</td>\n",
              "      <td>True</td>\n",
              "      <td>False</td>\n",
              "      <td>False</td>\n",
              "      <td>False</td>\n",
              "      <td>False</td>\n",
              "      <td>False</td>\n",
              "      <td>True</td>\n",
              "      <td>False</td>\n",
              "      <td>False</td>\n",
              "      <td>False</td>\n",
              "      <td>False</td>\n",
              "      <td>True</td>\n",
              "      <td>False</td>\n",
              "      <td>False</td>\n",
              "      <td>False</td>\n",
              "      <td>False</td>\n",
              "      <td>False</td>\n",
              "    </tr>\n",
              "    <tr>\n",
              "      <th>9997</th>\n",
              "      <td>tt0060880</td>\n",
              "      <td>The Quiller Memorandum (1966)</td>\n",
              "      <td>1966</td>\n",
              "      <td>6.5</td>\n",
              "      <td>1356</td>\n",
              "      <td>104</td>\n",
              "      <td>Drama|Mystery|Thriller</td>\n",
              "      <td>False</td>\n",
              "      <td>False</td>\n",
              "      <td>False</td>\n",
              "      <td>False</td>\n",
              "      <td>False</td>\n",
              "      <td>False</td>\n",
              "      <td>False</td>\n",
              "      <td>True</td>\n",
              "      <td>False</td>\n",
              "      <td>False</td>\n",
              "      <td>False</td>\n",
              "      <td>False</td>\n",
              "      <td>False</td>\n",
              "      <td>False</td>\n",
              "      <td>False</td>\n",
              "      <td>True</td>\n",
              "      <td>False</td>\n",
              "      <td>False</td>\n",
              "      <td>False</td>\n",
              "      <td>False</td>\n",
              "      <td>False</td>\n",
              "      <td>True</td>\n",
              "      <td>False</td>\n",
              "      <td>False</td>\n",
              "    </tr>\n",
              "    <tr>\n",
              "      <th>9998</th>\n",
              "      <td>tt0152836</td>\n",
              "      <td>Taal (1999)</td>\n",
              "      <td>1999</td>\n",
              "      <td>6.5</td>\n",
              "      <td>1356</td>\n",
              "      <td>179</td>\n",
              "      <td>Musical|Romance</td>\n",
              "      <td>False</td>\n",
              "      <td>False</td>\n",
              "      <td>False</td>\n",
              "      <td>False</td>\n",
              "      <td>False</td>\n",
              "      <td>False</td>\n",
              "      <td>False</td>\n",
              "      <td>False</td>\n",
              "      <td>False</td>\n",
              "      <td>False</td>\n",
              "      <td>False</td>\n",
              "      <td>False</td>\n",
              "      <td>False</td>\n",
              "      <td>False</td>\n",
              "      <td>True</td>\n",
              "      <td>False</td>\n",
              "      <td>False</td>\n",
              "      <td>False</td>\n",
              "      <td>True</td>\n",
              "      <td>False</td>\n",
              "      <td>False</td>\n",
              "      <td>False</td>\n",
              "      <td>False</td>\n",
              "      <td>False</td>\n",
              "    </tr>\n",
              "    <tr>\n",
              "      <th>9999</th>\n",
              "      <td>tt0279977</td>\n",
              "      <td>The Navigators (2001)</td>\n",
              "      <td>2001</td>\n",
              "      <td>6.9</td>\n",
              "      <td>1356</td>\n",
              "      <td>96</td>\n",
              "      <td>Comedy|Drama</td>\n",
              "      <td>False</td>\n",
              "      <td>False</td>\n",
              "      <td>False</td>\n",
              "      <td>False</td>\n",
              "      <td>False</td>\n",
              "      <td>True</td>\n",
              "      <td>False</td>\n",
              "      <td>True</td>\n",
              "      <td>False</td>\n",
              "      <td>False</td>\n",
              "      <td>False</td>\n",
              "      <td>False</td>\n",
              "      <td>False</td>\n",
              "      <td>False</td>\n",
              "      <td>False</td>\n",
              "      <td>False</td>\n",
              "      <td>False</td>\n",
              "      <td>False</td>\n",
              "      <td>False</td>\n",
              "      <td>False</td>\n",
              "      <td>False</td>\n",
              "      <td>False</td>\n",
              "      <td>False</td>\n",
              "      <td>False</td>\n",
              "    </tr>\n",
              "  </tbody>\n",
              "</table>\n",
              "<p>10000 rows × 31 columns</p>\n",
              "</div>\n",
              "      <button class=\"colab-df-convert\" onclick=\"convertToInteractive('df-1f1a0edc-4227-41d7-8e65-0c69e357e9bb')\"\n",
              "              title=\"Convert this dataframe to an interactive table.\"\n",
              "              style=\"display:none;\">\n",
              "        \n",
              "  <svg xmlns=\"http://www.w3.org/2000/svg\" height=\"24px\"viewBox=\"0 0 24 24\"\n",
              "       width=\"24px\">\n",
              "    <path d=\"M0 0h24v24H0V0z\" fill=\"none\"/>\n",
              "    <path d=\"M18.56 5.44l.94 2.06.94-2.06 2.06-.94-2.06-.94-.94-2.06-.94 2.06-2.06.94zm-11 1L8.5 8.5l.94-2.06 2.06-.94-2.06-.94L8.5 2.5l-.94 2.06-2.06.94zm10 10l.94 2.06.94-2.06 2.06-.94-2.06-.94-.94-2.06-.94 2.06-2.06.94z\"/><path d=\"M17.41 7.96l-1.37-1.37c-.4-.4-.92-.59-1.43-.59-.52 0-1.04.2-1.43.59L10.3 9.45l-7.72 7.72c-.78.78-.78 2.05 0 2.83L4 21.41c.39.39.9.59 1.41.59.51 0 1.02-.2 1.41-.59l7.78-7.78 2.81-2.81c.8-.78.8-2.07 0-2.86zM5.41 20L4 18.59l7.72-7.72 1.47 1.35L5.41 20z\"/>\n",
              "  </svg>\n",
              "      </button>\n",
              "      \n",
              "  <style>\n",
              "    .colab-df-container {\n",
              "      display:flex;\n",
              "      flex-wrap:wrap;\n",
              "      gap: 12px;\n",
              "    }\n",
              "\n",
              "    .colab-df-convert {\n",
              "      background-color: #E8F0FE;\n",
              "      border: none;\n",
              "      border-radius: 50%;\n",
              "      cursor: pointer;\n",
              "      display: none;\n",
              "      fill: #1967D2;\n",
              "      height: 32px;\n",
              "      padding: 0 0 0 0;\n",
              "      width: 32px;\n",
              "    }\n",
              "\n",
              "    .colab-df-convert:hover {\n",
              "      background-color: #E2EBFA;\n",
              "      box-shadow: 0px 1px 2px rgba(60, 64, 67, 0.3), 0px 1px 3px 1px rgba(60, 64, 67, 0.15);\n",
              "      fill: #174EA6;\n",
              "    }\n",
              "\n",
              "    [theme=dark] .colab-df-convert {\n",
              "      background-color: #3B4455;\n",
              "      fill: #D2E3FC;\n",
              "    }\n",
              "\n",
              "    [theme=dark] .colab-df-convert:hover {\n",
              "      background-color: #434B5C;\n",
              "      box-shadow: 0px 1px 3px 1px rgba(0, 0, 0, 0.15);\n",
              "      filter: drop-shadow(0px 1px 2px rgba(0, 0, 0, 0.3));\n",
              "      fill: #FFFFFF;\n",
              "    }\n",
              "  </style>\n",
              "\n",
              "      <script>\n",
              "        const buttonEl =\n",
              "          document.querySelector('#df-1f1a0edc-4227-41d7-8e65-0c69e357e9bb button.colab-df-convert');\n",
              "        buttonEl.style.display =\n",
              "          google.colab.kernel.accessAllowed ? 'block' : 'none';\n",
              "\n",
              "        async function convertToInteractive(key) {\n",
              "          const element = document.querySelector('#df-1f1a0edc-4227-41d7-8e65-0c69e357e9bb');\n",
              "          const dataTable =\n",
              "            await google.colab.kernel.invokeFunction('convertToInteractive',\n",
              "                                                     [key], {});\n",
              "          if (!dataTable) return;\n",
              "\n",
              "          const docLinkHtml = 'Like what you see? Visit the ' +\n",
              "            '<a target=\"_blank\" href=https://colab.research.google.com/notebooks/data_table.ipynb>data table notebook</a>'\n",
              "            + ' to learn more about interactive tables.';\n",
              "          element.innerHTML = '';\n",
              "          dataTable['output_type'] = 'display_data';\n",
              "          await google.colab.output.renderOutput(dataTable, element);\n",
              "          const docLink = document.createElement('div');\n",
              "          docLink.innerHTML = docLinkHtml;\n",
              "          element.appendChild(docLink);\n",
              "        }\n",
              "      </script>\n",
              "    </div>\n",
              "  </div>\n",
              "  "
            ]
          },
          "metadata": {},
          "execution_count": 8
        }
      ],
      "source": [
        "#make a column for each genre\n",
        "gen_cols = data['genres'].str.get_dummies(\"|\")\n",
        "gen_cols = gen_cols.replace({1: True, 0: False})\n",
        "data = pd.concat([data, gen_cols], axis = 1)\n",
        "\n",
        "data"
      ]
    },
    {
      "cell_type": "markdown",
      "metadata": {
        "id": "KDkRFkysVcc-"
      },
      "source": [
        "__Marks = 5__"
      ]
    },
    {
      "cell_type": "markdown",
      "metadata": {
        "id": "O10fD1-OVcc_"
      },
      "source": [
        "### Eliminate year from the title\n",
        "We can fix each element by stripping off the last 7 characters"
      ]
    },
    {
      "cell_type": "code",
      "execution_count": null,
      "metadata": {
        "id": "QQLe3HLPVcc_",
        "outputId": "b5013077-c5ba-4827-f41d-27b764f5401e",
        "colab": {
          "base_uri": "https://localhost:8080/"
        }
      },
      "outputs": [
        {
          "output_type": "execute_result",
          "data": {
            "text/plain": [
              "0       The Shawshank Redemption\n",
              "1                   Pulp Fiction\n",
              "2                     Fight Club\n",
              "3                     The Matrix\n",
              "4                      Inception\n",
              "                  ...           \n",
              "9995                     Meduzot\n",
              "9996              Daltry Calhoun\n",
              "9997      The Quiller Memorandum\n",
              "9998                        Taal\n",
              "9999              The Navigators\n",
              "Name: title, Length: 10000, dtype: object"
            ]
          },
          "metadata": {},
          "execution_count": 9
        }
      ],
      "source": [
        "#Strip off last 7 character from title\n",
        "data['title'] = data['title'].str[: -7]\n",
        "\n",
        "data[\"title\"]"
      ]
    },
    {
      "cell_type": "markdown",
      "metadata": {
        "id": "1PPsqDKpVcc_"
      },
      "source": [
        "__Marks = 1__"
      ]
    },
    {
      "cell_type": "markdown",
      "metadata": {
        "id": "fmIl-EPlVcc_"
      },
      "source": [
        "## 3. Descriptive Statistics\n",
        "\n",
        "Next, we would like to discover outliers. One possible way is to describe some basic, global summaries of the DataFrame on `score`, `runtime`, `year`, `votes`."
      ]
    },
    {
      "cell_type": "code",
      "execution_count": null,
      "metadata": {
        "id": "eBs1XREvVcc_",
        "outputId": "1bfb1f3d-1b24-4627-c478-5308456f403f",
        "colab": {
          "base_uri": "https://localhost:8080/",
          "height": 300
        }
      },
      "outputs": [
        {
          "output_type": "execute_result",
          "data": {
            "text/plain": [
              "              score       runtime          year          votes\n",
              "count  10000.000000  10000.000000  10000.000000   10000.000000\n",
              "mean       6.386070    103.578400   1993.472800   16604.012800\n",
              "std        1.189933     26.628698     14.829924   34563.459698\n",
              "min        1.500000      0.000000   1950.000000    1356.000000\n",
              "25%        5.700000     93.000000   1986.000000    2333.750000\n",
              "50%        6.600000    102.000000   1998.000000    4980.500000\n",
              "75%        7.200000    115.000000   2005.000000   15277.750000\n",
              "max        9.200000    450.000000   2011.000000  619479.000000"
            ],
            "text/html": [
              "\n",
              "  <div id=\"df-fb2b2cb6-1e6b-4987-b749-e3686830888f\">\n",
              "    <div class=\"colab-df-container\">\n",
              "      <div>\n",
              "<style scoped>\n",
              "    .dataframe tbody tr th:only-of-type {\n",
              "        vertical-align: middle;\n",
              "    }\n",
              "\n",
              "    .dataframe tbody tr th {\n",
              "        vertical-align: top;\n",
              "    }\n",
              "\n",
              "    .dataframe thead th {\n",
              "        text-align: right;\n",
              "    }\n",
              "</style>\n",
              "<table border=\"1\" class=\"dataframe\">\n",
              "  <thead>\n",
              "    <tr style=\"text-align: right;\">\n",
              "      <th></th>\n",
              "      <th>score</th>\n",
              "      <th>runtime</th>\n",
              "      <th>year</th>\n",
              "      <th>votes</th>\n",
              "    </tr>\n",
              "  </thead>\n",
              "  <tbody>\n",
              "    <tr>\n",
              "      <th>count</th>\n",
              "      <td>10000.000000</td>\n",
              "      <td>10000.000000</td>\n",
              "      <td>10000.000000</td>\n",
              "      <td>10000.000000</td>\n",
              "    </tr>\n",
              "    <tr>\n",
              "      <th>mean</th>\n",
              "      <td>6.386070</td>\n",
              "      <td>103.578400</td>\n",
              "      <td>1993.472800</td>\n",
              "      <td>16604.012800</td>\n",
              "    </tr>\n",
              "    <tr>\n",
              "      <th>std</th>\n",
              "      <td>1.189933</td>\n",
              "      <td>26.628698</td>\n",
              "      <td>14.829924</td>\n",
              "      <td>34563.459698</td>\n",
              "    </tr>\n",
              "    <tr>\n",
              "      <th>min</th>\n",
              "      <td>1.500000</td>\n",
              "      <td>0.000000</td>\n",
              "      <td>1950.000000</td>\n",
              "      <td>1356.000000</td>\n",
              "    </tr>\n",
              "    <tr>\n",
              "      <th>25%</th>\n",
              "      <td>5.700000</td>\n",
              "      <td>93.000000</td>\n",
              "      <td>1986.000000</td>\n",
              "      <td>2333.750000</td>\n",
              "    </tr>\n",
              "    <tr>\n",
              "      <th>50%</th>\n",
              "      <td>6.600000</td>\n",
              "      <td>102.000000</td>\n",
              "      <td>1998.000000</td>\n",
              "      <td>4980.500000</td>\n",
              "    </tr>\n",
              "    <tr>\n",
              "      <th>75%</th>\n",
              "      <td>7.200000</td>\n",
              "      <td>115.000000</td>\n",
              "      <td>2005.000000</td>\n",
              "      <td>15277.750000</td>\n",
              "    </tr>\n",
              "    <tr>\n",
              "      <th>max</th>\n",
              "      <td>9.200000</td>\n",
              "      <td>450.000000</td>\n",
              "      <td>2011.000000</td>\n",
              "      <td>619479.000000</td>\n",
              "    </tr>\n",
              "  </tbody>\n",
              "</table>\n",
              "</div>\n",
              "      <button class=\"colab-df-convert\" onclick=\"convertToInteractive('df-fb2b2cb6-1e6b-4987-b749-e3686830888f')\"\n",
              "              title=\"Convert this dataframe to an interactive table.\"\n",
              "              style=\"display:none;\">\n",
              "        \n",
              "  <svg xmlns=\"http://www.w3.org/2000/svg\" height=\"24px\"viewBox=\"0 0 24 24\"\n",
              "       width=\"24px\">\n",
              "    <path d=\"M0 0h24v24H0V0z\" fill=\"none\"/>\n",
              "    <path d=\"M18.56 5.44l.94 2.06.94-2.06 2.06-.94-2.06-.94-.94-2.06-.94 2.06-2.06.94zm-11 1L8.5 8.5l.94-2.06 2.06-.94-2.06-.94L8.5 2.5l-.94 2.06-2.06.94zm10 10l.94 2.06.94-2.06 2.06-.94-2.06-.94-.94-2.06-.94 2.06-2.06.94z\"/><path d=\"M17.41 7.96l-1.37-1.37c-.4-.4-.92-.59-1.43-.59-.52 0-1.04.2-1.43.59L10.3 9.45l-7.72 7.72c-.78.78-.78 2.05 0 2.83L4 21.41c.39.39.9.59 1.41.59.51 0 1.02-.2 1.41-.59l7.78-7.78 2.81-2.81c.8-.78.8-2.07 0-2.86zM5.41 20L4 18.59l7.72-7.72 1.47 1.35L5.41 20z\"/>\n",
              "  </svg>\n",
              "      </button>\n",
              "      \n",
              "  <style>\n",
              "    .colab-df-container {\n",
              "      display:flex;\n",
              "      flex-wrap:wrap;\n",
              "      gap: 12px;\n",
              "    }\n",
              "\n",
              "    .colab-df-convert {\n",
              "      background-color: #E8F0FE;\n",
              "      border: none;\n",
              "      border-radius: 50%;\n",
              "      cursor: pointer;\n",
              "      display: none;\n",
              "      fill: #1967D2;\n",
              "      height: 32px;\n",
              "      padding: 0 0 0 0;\n",
              "      width: 32px;\n",
              "    }\n",
              "\n",
              "    .colab-df-convert:hover {\n",
              "      background-color: #E2EBFA;\n",
              "      box-shadow: 0px 1px 2px rgba(60, 64, 67, 0.3), 0px 1px 3px 1px rgba(60, 64, 67, 0.15);\n",
              "      fill: #174EA6;\n",
              "    }\n",
              "\n",
              "    [theme=dark] .colab-df-convert {\n",
              "      background-color: #3B4455;\n",
              "      fill: #D2E3FC;\n",
              "    }\n",
              "\n",
              "    [theme=dark] .colab-df-convert:hover {\n",
              "      background-color: #434B5C;\n",
              "      box-shadow: 0px 1px 3px 1px rgba(0, 0, 0, 0.15);\n",
              "      filter: drop-shadow(0px 1px 2px rgba(0, 0, 0, 0.3));\n",
              "      fill: #FFFFFF;\n",
              "    }\n",
              "  </style>\n",
              "\n",
              "      <script>\n",
              "        const buttonEl =\n",
              "          document.querySelector('#df-fb2b2cb6-1e6b-4987-b749-e3686830888f button.colab-df-convert');\n",
              "        buttonEl.style.display =\n",
              "          google.colab.kernel.accessAllowed ? 'block' : 'none';\n",
              "\n",
              "        async function convertToInteractive(key) {\n",
              "          const element = document.querySelector('#df-fb2b2cb6-1e6b-4987-b749-e3686830888f');\n",
              "          const dataTable =\n",
              "            await google.colab.kernel.invokeFunction('convertToInteractive',\n",
              "                                                     [key], {});\n",
              "          if (!dataTable) return;\n",
              "\n",
              "          const docLinkHtml = 'Like what you see? Visit the ' +\n",
              "            '<a target=\"_blank\" href=https://colab.research.google.com/notebooks/data_table.ipynb>data table notebook</a>'\n",
              "            + ' to learn more about interactive tables.';\n",
              "          element.innerHTML = '';\n",
              "          dataTable['output_type'] = 'display_data';\n",
              "          await google.colab.output.renderOutput(dataTable, element);\n",
              "          const docLink = document.createElement('div');\n",
              "          docLink.innerHTML = docLinkHtml;\n",
              "          element.appendChild(docLink);\n",
              "        }\n",
              "      </script>\n",
              "    </div>\n",
              "  </div>\n",
              "  "
            ]
          },
          "metadata": {},
          "execution_count": 10
        }
      ],
      "source": [
        "#Call `describe` on relevant columns\n",
        "data_Disc = data[['score', 'runtime', 'year', 'votes']].describe()\n",
        "\n",
        "data_Disc"
      ]
    },
    {
      "cell_type": "markdown",
      "metadata": {
        "id": "NvavhBezVcc_"
      },
      "source": [
        "__Marks = 1__"
      ]
    },
    {
      "cell_type": "markdown",
      "metadata": {
        "id": "zswrDRaAVcc_"
      },
      "source": [
        "Do you see any quantity unusual. Better replace with NAN."
      ]
    },
    {
      "cell_type": "code",
      "execution_count": null,
      "metadata": {
        "id": "AjonDdu-Vcc_",
        "outputId": "05ba32d7-c997-407c-f57a-04b225596e70",
        "colab": {
          "base_uri": "https://localhost:8080/",
          "height": 300
        }
      },
      "outputs": [
        {
          "output_type": "execute_result",
          "data": {
            "text/plain": [
              "              score    runtime          year          votes\n",
              "count  10000.000000    10000.0  10000.000000   10000.000000\n",
              "mean       6.386070   103.5784   1993.472800   16604.012800\n",
              "std        1.189933  26.628698     14.829924   34563.459698\n",
              "min        1.500000        NAN   1950.000000    1356.000000\n",
              "25%        5.700000       93.0   1986.000000    2333.750000\n",
              "50%        6.600000      102.0   1998.000000    4980.500000\n",
              "75%        7.200000      115.0   2005.000000   15277.750000\n",
              "max        9.200000      450.0   2011.000000  619479.000000"
            ],
            "text/html": [
              "\n",
              "  <div id=\"df-f28e03e8-512b-4f9b-976c-3b6de4e9caf5\">\n",
              "    <div class=\"colab-df-container\">\n",
              "      <div>\n",
              "<style scoped>\n",
              "    .dataframe tbody tr th:only-of-type {\n",
              "        vertical-align: middle;\n",
              "    }\n",
              "\n",
              "    .dataframe tbody tr th {\n",
              "        vertical-align: top;\n",
              "    }\n",
              "\n",
              "    .dataframe thead th {\n",
              "        text-align: right;\n",
              "    }\n",
              "</style>\n",
              "<table border=\"1\" class=\"dataframe\">\n",
              "  <thead>\n",
              "    <tr style=\"text-align: right;\">\n",
              "      <th></th>\n",
              "      <th>score</th>\n",
              "      <th>runtime</th>\n",
              "      <th>year</th>\n",
              "      <th>votes</th>\n",
              "    </tr>\n",
              "  </thead>\n",
              "  <tbody>\n",
              "    <tr>\n",
              "      <th>count</th>\n",
              "      <td>10000.000000</td>\n",
              "      <td>10000.0</td>\n",
              "      <td>10000.000000</td>\n",
              "      <td>10000.000000</td>\n",
              "    </tr>\n",
              "    <tr>\n",
              "      <th>mean</th>\n",
              "      <td>6.386070</td>\n",
              "      <td>103.5784</td>\n",
              "      <td>1993.472800</td>\n",
              "      <td>16604.012800</td>\n",
              "    </tr>\n",
              "    <tr>\n",
              "      <th>std</th>\n",
              "      <td>1.189933</td>\n",
              "      <td>26.628698</td>\n",
              "      <td>14.829924</td>\n",
              "      <td>34563.459698</td>\n",
              "    </tr>\n",
              "    <tr>\n",
              "      <th>min</th>\n",
              "      <td>1.500000</td>\n",
              "      <td>NAN</td>\n",
              "      <td>1950.000000</td>\n",
              "      <td>1356.000000</td>\n",
              "    </tr>\n",
              "    <tr>\n",
              "      <th>25%</th>\n",
              "      <td>5.700000</td>\n",
              "      <td>93.0</td>\n",
              "      <td>1986.000000</td>\n",
              "      <td>2333.750000</td>\n",
              "    </tr>\n",
              "    <tr>\n",
              "      <th>50%</th>\n",
              "      <td>6.600000</td>\n",
              "      <td>102.0</td>\n",
              "      <td>1998.000000</td>\n",
              "      <td>4980.500000</td>\n",
              "    </tr>\n",
              "    <tr>\n",
              "      <th>75%</th>\n",
              "      <td>7.200000</td>\n",
              "      <td>115.0</td>\n",
              "      <td>2005.000000</td>\n",
              "      <td>15277.750000</td>\n",
              "    </tr>\n",
              "    <tr>\n",
              "      <th>max</th>\n",
              "      <td>9.200000</td>\n",
              "      <td>450.0</td>\n",
              "      <td>2011.000000</td>\n",
              "      <td>619479.000000</td>\n",
              "    </tr>\n",
              "  </tbody>\n",
              "</table>\n",
              "</div>\n",
              "      <button class=\"colab-df-convert\" onclick=\"convertToInteractive('df-f28e03e8-512b-4f9b-976c-3b6de4e9caf5')\"\n",
              "              title=\"Convert this dataframe to an interactive table.\"\n",
              "              style=\"display:none;\">\n",
              "        \n",
              "  <svg xmlns=\"http://www.w3.org/2000/svg\" height=\"24px\"viewBox=\"0 0 24 24\"\n",
              "       width=\"24px\">\n",
              "    <path d=\"M0 0h24v24H0V0z\" fill=\"none\"/>\n",
              "    <path d=\"M18.56 5.44l.94 2.06.94-2.06 2.06-.94-2.06-.94-.94-2.06-.94 2.06-2.06.94zm-11 1L8.5 8.5l.94-2.06 2.06-.94-2.06-.94L8.5 2.5l-.94 2.06-2.06.94zm10 10l.94 2.06.94-2.06 2.06-.94-2.06-.94-.94-2.06-.94 2.06-2.06.94z\"/><path d=\"M17.41 7.96l-1.37-1.37c-.4-.4-.92-.59-1.43-.59-.52 0-1.04.2-1.43.59L10.3 9.45l-7.72 7.72c-.78.78-.78 2.05 0 2.83L4 21.41c.39.39.9.59 1.41.59.51 0 1.02-.2 1.41-.59l7.78-7.78 2.81-2.81c.8-.78.8-2.07 0-2.86zM5.41 20L4 18.59l7.72-7.72 1.47 1.35L5.41 20z\"/>\n",
              "  </svg>\n",
              "      </button>\n",
              "      \n",
              "  <style>\n",
              "    .colab-df-container {\n",
              "      display:flex;\n",
              "      flex-wrap:wrap;\n",
              "      gap: 12px;\n",
              "    }\n",
              "\n",
              "    .colab-df-convert {\n",
              "      background-color: #E8F0FE;\n",
              "      border: none;\n",
              "      border-radius: 50%;\n",
              "      cursor: pointer;\n",
              "      display: none;\n",
              "      fill: #1967D2;\n",
              "      height: 32px;\n",
              "      padding: 0 0 0 0;\n",
              "      width: 32px;\n",
              "    }\n",
              "\n",
              "    .colab-df-convert:hover {\n",
              "      background-color: #E2EBFA;\n",
              "      box-shadow: 0px 1px 2px rgba(60, 64, 67, 0.3), 0px 1px 3px 1px rgba(60, 64, 67, 0.15);\n",
              "      fill: #174EA6;\n",
              "    }\n",
              "\n",
              "    [theme=dark] .colab-df-convert {\n",
              "      background-color: #3B4455;\n",
              "      fill: #D2E3FC;\n",
              "    }\n",
              "\n",
              "    [theme=dark] .colab-df-convert:hover {\n",
              "      background-color: #434B5C;\n",
              "      box-shadow: 0px 1px 3px 1px rgba(0, 0, 0, 0.15);\n",
              "      filter: drop-shadow(0px 1px 2px rgba(0, 0, 0, 0.3));\n",
              "      fill: #FFFFFF;\n",
              "    }\n",
              "  </style>\n",
              "\n",
              "      <script>\n",
              "        const buttonEl =\n",
              "          document.querySelector('#df-f28e03e8-512b-4f9b-976c-3b6de4e9caf5 button.colab-df-convert');\n",
              "        buttonEl.style.display =\n",
              "          google.colab.kernel.accessAllowed ? 'block' : 'none';\n",
              "\n",
              "        async function convertToInteractive(key) {\n",
              "          const element = document.querySelector('#df-f28e03e8-512b-4f9b-976c-3b6de4e9caf5');\n",
              "          const dataTable =\n",
              "            await google.colab.kernel.invokeFunction('convertToInteractive',\n",
              "                                                     [key], {});\n",
              "          if (!dataTable) return;\n",
              "\n",
              "          const docLinkHtml = 'Like what you see? Visit the ' +\n",
              "            '<a target=\"_blank\" href=https://colab.research.google.com/notebooks/data_table.ipynb>data table notebook</a>'\n",
              "            + ' to learn more about interactive tables.';\n",
              "          element.innerHTML = '';\n",
              "          dataTable['output_type'] = 'display_data';\n",
              "          await google.colab.output.renderOutput(dataTable, element);\n",
              "          const docLink = document.createElement('div');\n",
              "          docLink.innerHTML = docLinkHtml;\n",
              "          element.appendChild(docLink);\n",
              "        }\n",
              "      </script>\n",
              "    </div>\n",
              "  </div>\n",
              "  "
            ]
          },
          "metadata": {},
          "execution_count": 11
        }
      ],
      "source": [
        "#Your code here\n",
        "data_Disc.replace({0: \"NAN\"})"
      ]
    },
    {
      "cell_type": "markdown",
      "metadata": {
        "id": "kf1wbuhlVcc_"
      },
      "source": [
        "__Marks = 1__"
      ]
    },
    {
      "cell_type": "markdown",
      "metadata": {
        "id": "q1cvX_FbVcc_"
      },
      "source": [
        "Lets repeat describe to make sure that it is fine"
      ]
    },
    {
      "cell_type": "code",
      "execution_count": null,
      "metadata": {
        "id": "G4-1p1MCVcc_",
        "outputId": "ecb09f54-bce8-4026-94e9-45fbe19c403e",
        "colab": {
          "base_uri": "https://localhost:8080/",
          "height": 300
        }
      },
      "outputs": [
        {
          "output_type": "execute_result",
          "data": {
            "text/plain": [
              "              score       runtime          year          votes\n",
              "count  10000.000000  10000.000000  10000.000000   10000.000000\n",
              "mean       6.386070    103.578400   1993.472800   16604.012800\n",
              "std        1.189933     26.628698     14.829924   34563.459698\n",
              "min        1.500000      0.000000   1950.000000    1356.000000\n",
              "25%        5.700000     93.000000   1986.000000    2333.750000\n",
              "50%        6.600000    102.000000   1998.000000    4980.500000\n",
              "75%        7.200000    115.000000   2005.000000   15277.750000\n",
              "max        9.200000    450.000000   2011.000000  619479.000000"
            ],
            "text/html": [
              "\n",
              "  <div id=\"df-3b0459b7-a9b1-4558-828c-e8c58c913d70\">\n",
              "    <div class=\"colab-df-container\">\n",
              "      <div>\n",
              "<style scoped>\n",
              "    .dataframe tbody tr th:only-of-type {\n",
              "        vertical-align: middle;\n",
              "    }\n",
              "\n",
              "    .dataframe tbody tr th {\n",
              "        vertical-align: top;\n",
              "    }\n",
              "\n",
              "    .dataframe thead th {\n",
              "        text-align: right;\n",
              "    }\n",
              "</style>\n",
              "<table border=\"1\" class=\"dataframe\">\n",
              "  <thead>\n",
              "    <tr style=\"text-align: right;\">\n",
              "      <th></th>\n",
              "      <th>score</th>\n",
              "      <th>runtime</th>\n",
              "      <th>year</th>\n",
              "      <th>votes</th>\n",
              "    </tr>\n",
              "  </thead>\n",
              "  <tbody>\n",
              "    <tr>\n",
              "      <th>count</th>\n",
              "      <td>10000.000000</td>\n",
              "      <td>10000.000000</td>\n",
              "      <td>10000.000000</td>\n",
              "      <td>10000.000000</td>\n",
              "    </tr>\n",
              "    <tr>\n",
              "      <th>mean</th>\n",
              "      <td>6.386070</td>\n",
              "      <td>103.578400</td>\n",
              "      <td>1993.472800</td>\n",
              "      <td>16604.012800</td>\n",
              "    </tr>\n",
              "    <tr>\n",
              "      <th>std</th>\n",
              "      <td>1.189933</td>\n",
              "      <td>26.628698</td>\n",
              "      <td>14.829924</td>\n",
              "      <td>34563.459698</td>\n",
              "    </tr>\n",
              "    <tr>\n",
              "      <th>min</th>\n",
              "      <td>1.500000</td>\n",
              "      <td>0.000000</td>\n",
              "      <td>1950.000000</td>\n",
              "      <td>1356.000000</td>\n",
              "    </tr>\n",
              "    <tr>\n",
              "      <th>25%</th>\n",
              "      <td>5.700000</td>\n",
              "      <td>93.000000</td>\n",
              "      <td>1986.000000</td>\n",
              "      <td>2333.750000</td>\n",
              "    </tr>\n",
              "    <tr>\n",
              "      <th>50%</th>\n",
              "      <td>6.600000</td>\n",
              "      <td>102.000000</td>\n",
              "      <td>1998.000000</td>\n",
              "      <td>4980.500000</td>\n",
              "    </tr>\n",
              "    <tr>\n",
              "      <th>75%</th>\n",
              "      <td>7.200000</td>\n",
              "      <td>115.000000</td>\n",
              "      <td>2005.000000</td>\n",
              "      <td>15277.750000</td>\n",
              "    </tr>\n",
              "    <tr>\n",
              "      <th>max</th>\n",
              "      <td>9.200000</td>\n",
              "      <td>450.000000</td>\n",
              "      <td>2011.000000</td>\n",
              "      <td>619479.000000</td>\n",
              "    </tr>\n",
              "  </tbody>\n",
              "</table>\n",
              "</div>\n",
              "      <button class=\"colab-df-convert\" onclick=\"convertToInteractive('df-3b0459b7-a9b1-4558-828c-e8c58c913d70')\"\n",
              "              title=\"Convert this dataframe to an interactive table.\"\n",
              "              style=\"display:none;\">\n",
              "        \n",
              "  <svg xmlns=\"http://www.w3.org/2000/svg\" height=\"24px\"viewBox=\"0 0 24 24\"\n",
              "       width=\"24px\">\n",
              "    <path d=\"M0 0h24v24H0V0z\" fill=\"none\"/>\n",
              "    <path d=\"M18.56 5.44l.94 2.06.94-2.06 2.06-.94-2.06-.94-.94-2.06-.94 2.06-2.06.94zm-11 1L8.5 8.5l.94-2.06 2.06-.94-2.06-.94L8.5 2.5l-.94 2.06-2.06.94zm10 10l.94 2.06.94-2.06 2.06-.94-2.06-.94-.94-2.06-.94 2.06-2.06.94z\"/><path d=\"M17.41 7.96l-1.37-1.37c-.4-.4-.92-.59-1.43-.59-.52 0-1.04.2-1.43.59L10.3 9.45l-7.72 7.72c-.78.78-.78 2.05 0 2.83L4 21.41c.39.39.9.59 1.41.59.51 0 1.02-.2 1.41-.59l7.78-7.78 2.81-2.81c.8-.78.8-2.07 0-2.86zM5.41 20L4 18.59l7.72-7.72 1.47 1.35L5.41 20z\"/>\n",
              "  </svg>\n",
              "      </button>\n",
              "      \n",
              "  <style>\n",
              "    .colab-df-container {\n",
              "      display:flex;\n",
              "      flex-wrap:wrap;\n",
              "      gap: 12px;\n",
              "    }\n",
              "\n",
              "    .colab-df-convert {\n",
              "      background-color: #E8F0FE;\n",
              "      border: none;\n",
              "      border-radius: 50%;\n",
              "      cursor: pointer;\n",
              "      display: none;\n",
              "      fill: #1967D2;\n",
              "      height: 32px;\n",
              "      padding: 0 0 0 0;\n",
              "      width: 32px;\n",
              "    }\n",
              "\n",
              "    .colab-df-convert:hover {\n",
              "      background-color: #E2EBFA;\n",
              "      box-shadow: 0px 1px 2px rgba(60, 64, 67, 0.3), 0px 1px 3px 1px rgba(60, 64, 67, 0.15);\n",
              "      fill: #174EA6;\n",
              "    }\n",
              "\n",
              "    [theme=dark] .colab-df-convert {\n",
              "      background-color: #3B4455;\n",
              "      fill: #D2E3FC;\n",
              "    }\n",
              "\n",
              "    [theme=dark] .colab-df-convert:hover {\n",
              "      background-color: #434B5C;\n",
              "      box-shadow: 0px 1px 3px 1px rgba(0, 0, 0, 0.15);\n",
              "      filter: drop-shadow(0px 1px 2px rgba(0, 0, 0, 0.3));\n",
              "      fill: #FFFFFF;\n",
              "    }\n",
              "  </style>\n",
              "\n",
              "      <script>\n",
              "        const buttonEl =\n",
              "          document.querySelector('#df-3b0459b7-a9b1-4558-828c-e8c58c913d70 button.colab-df-convert');\n",
              "        buttonEl.style.display =\n",
              "          google.colab.kernel.accessAllowed ? 'block' : 'none';\n",
              "\n",
              "        async function convertToInteractive(key) {\n",
              "          const element = document.querySelector('#df-3b0459b7-a9b1-4558-828c-e8c58c913d70');\n",
              "          const dataTable =\n",
              "            await google.colab.kernel.invokeFunction('convertToInteractive',\n",
              "                                                     [key], {});\n",
              "          if (!dataTable) return;\n",
              "\n",
              "          const docLinkHtml = 'Like what you see? Visit the ' +\n",
              "            '<a target=\"_blank\" href=https://colab.research.google.com/notebooks/data_table.ipynb>data table notebook</a>'\n",
              "            + ' to learn more about interactive tables.';\n",
              "          element.innerHTML = '';\n",
              "          dataTable['output_type'] = 'display_data';\n",
              "          await google.colab.output.renderOutput(dataTable, element);\n",
              "          const docLink = document.createElement('div');\n",
              "          docLink.innerHTML = docLinkHtml;\n",
              "          element.appendChild(docLink);\n",
              "        }\n",
              "      </script>\n",
              "    </div>\n",
              "  </div>\n",
              "  "
            ]
          },
          "metadata": {},
          "execution_count": 12
        }
      ],
      "source": [
        "#Your code here\n",
        "data_Disc = data[['score', 'runtime', 'year', 'votes']].describe()\n",
        "\n",
        "data_Disc"
      ]
    },
    {
      "cell_type": "markdown",
      "metadata": {
        "id": "d5BDzBXQVcc_"
      },
      "source": [
        "__Marks = 1__"
      ]
    },
    {
      "cell_type": "markdown",
      "metadata": {
        "id": "JsFGj8uaVcc_"
      },
      "source": [
        "### Basic plots"
      ]
    },
    {
      "cell_type": "markdown",
      "metadata": {
        "id": "9po2OFMTVcc_"
      },
      "source": [
        "Lets draw histograms for release year, IMDB rating, runtime distribution"
      ]
    },
    {
      "cell_type": "code",
      "execution_count": null,
      "metadata": {
        "id": "uWvALn5MVcc_",
        "outputId": "fd470bdc-8af2-4414-f23b-048cf5dbe46c",
        "colab": {
          "base_uri": "https://localhost:8080/",
          "height": 447
        }
      },
      "outputs": [
        {
          "output_type": "execute_result",
          "data": {
            "text/plain": [
              "<Axes: ylabel='Frequency'>"
            ]
          },
          "metadata": {},
          "execution_count": 13
        },
        {
          "output_type": "display_data",
          "data": {
            "text/plain": [
              "<Figure size 640x480 with 1 Axes>"
            ],
            "image/png": "[encoded data removed]"
          },
          "metadata": {}
        }
      ],
      "source": [
        "#Your code here\n",
        "data[['year']].plot.hist(bins = 20)"
      ]
    },
    {
      "cell_type": "markdown",
      "metadata": {
        "id": "sKgzXxAkVcc_"
      },
      "source": [
        "__Marks = 1__"
      ]
    },
    {
      "cell_type": "code",
      "execution_count": null,
      "metadata": {
        "id": "5gsNuUnDVcdD",
        "outputId": "b93f8c29-25c4-4ecf-8312-0e06c9d7f1ab",
        "colab": {
          "base_uri": "https://localhost:8080/",
          "height": 448
        }
      },
      "outputs": [
        {
          "output_type": "execute_result",
          "data": {
            "text/plain": [
              "<Axes: ylabel='Frequency'>"
            ]
          },
          "metadata": {},
          "execution_count": 14
        },
        {
          "output_type": "display_data",
          "data": {
            "text/plain": [
              "<Figure size 640x480 with 1 Axes>"
            ],
            "image/png": "[encoded data removed]"
          },
          "metadata": {}
        }
      ],
      "source": [
        "#Your code here\n",
        "data[['score']].plot.hist(bins = 20)"
      ]
    },
    {
      "cell_type": "markdown",
      "metadata": {
        "id": "i5VI-aJaVcdD"
      },
      "source": [
        "__Marks = 1__"
      ]
    },
    {
      "cell_type": "code",
      "execution_count": null,
      "metadata": {
        "id": "bBv7U5eNVcdD",
        "outputId": "8a778a81-aeeb-4ee1-c8fe-99b24e2532f9",
        "colab": {
          "base_uri": "https://localhost:8080/",
          "height": 447
        }
      },
      "outputs": [
        {
          "output_type": "execute_result",
          "data": {
            "text/plain": [
              "<Axes: ylabel='Frequency'>"
            ]
          },
          "metadata": {},
          "execution_count": 15
        },
        {
          "output_type": "display_data",
          "data": {
            "text/plain": [
              "<Figure size 640x480 with 1 Axes>"
            ],
            "image/png": "[encoded data removed]"
          },
          "metadata": {}
        }
      ],
      "source": [
        "#Your code here\n",
        "data[['runtime']].plot.hist(bins = 20)"
      ]
    },
    {
      "cell_type": "markdown",
      "metadata": {
        "id": "0Qqljxq_VcdD"
      },
      "source": [
        "__Marks = 1__"
      ]
    },
    {
      "cell_type": "markdown",
      "metadata": {
        "id": "mep6RUyYVcdD"
      },
      "source": [
        "Scatter plot between IMDB rating and years. Does it shows some trend?"
      ]
    },
    {
      "cell_type": "code",
      "execution_count": null,
      "metadata": {
        "id": "RF8pGuMYVcdD",
        "outputId": "7ba71fe8-db28-4f01-e252-b10e8bef2c6a",
        "colab": {
          "base_uri": "https://localhost:8080/",
          "height": 466
        }
      },
      "outputs": [
        {
          "output_type": "execute_result",
          "data": {
            "text/plain": [
              "<Axes: xlabel='year', ylabel='score'>"
            ]
          },
          "metadata": {},
          "execution_count": 16
        },
        {
          "output_type": "display_data",
          "data": {
            "text/plain": [
              "<Figure size 640x480 with 1 Axes>"
            ],
            "image/png": "[encoded data removed]"
          },
          "metadata": {}
        }
      ],
      "source": [
        "#Your code here\n",
        "data.plot.scatter(x = 'year', y = 'score')\n",
        "\n",
        "# It is hard to figure out a trend from this graph but we can say that Average Score Decreased over the years."
      ]
    },
    {
      "cell_type": "markdown",
      "metadata": {
        "id": "7th98-4TVcdD"
      },
      "source": [
        "__Marks = 2__"
      ]
    },
    {
      "cell_type": "markdown",
      "metadata": {
        "id": "RWhNri-CVcdD"
      },
      "source": [
        "Is there any relationship between IMDB rating and number of votes? Describe"
      ]
    },
    {
      "cell_type": "code",
      "execution_count": null,
      "metadata": {
        "id": "90Y9iNJXVcdD",
        "outputId": "d3b2913a-7e2f-4101-df65-e9627c276701",
        "colab": {
          "base_uri": "https://localhost:8080/",
          "height": 466
        }
      },
      "outputs": [
        {
          "output_type": "execute_result",
          "data": {
            "text/plain": [
              "<Axes: xlabel='score', ylabel='votes'>"
            ]
          },
          "metadata": {},
          "execution_count": 17
        },
        {
          "output_type": "display_data",
          "data": {
            "text/plain": [
              "<Figure size 640x480 with 1 Axes>"
            ],
            "image/png": "[encoded data removed]"
          },
          "metadata": {}
        }
      ],
      "source": [
        "#Your code here\n",
        "data.plot.scatter(x = \"score\", y = \"votes\")\n",
        "\n",
        "# Higher Rated movies received more votes.\n",
        "# Better the Movie, the More Votes it gets."
      ]
    },
    {
      "cell_type": "markdown",
      "metadata": {
        "id": "nt8sJ0vjVcdD"
      },
      "source": [
        "__Marks = 2__"
      ]
    },
    {
      "cell_type": "markdown",
      "metadata": {
        "id": "80VyD-XIVcdD"
      },
      "source": [
        "### Data aggregation/Summarization"
      ]
    },
    {
      "cell_type": "markdown",
      "metadata": {
        "id": "GO2ePfHKVcdD"
      },
      "source": [
        "*What genres are the most frequent?* Lay down the genres in descending order of count"
      ]
    },
    {
      "cell_type": "code",
      "execution_count": null,
      "metadata": {
        "id": "-fBX093oVcdD",
        "outputId": "8c327886-7f89-4e50-bce2-94cd0d7ed03e",
        "colab": {
          "base_uri": "https://localhost:8080/"
        }
      },
      "outputs": [
        {
          "output_type": "execute_result",
          "data": {
            "text/plain": [
              "Drama         5697\n",
              "Comedy        3922\n",
              "Thriller      2832\n",
              "Romance       2441\n",
              "Action        1891\n",
              "Crime         1867\n",
              "Adventure     1313\n",
              "Horror        1215\n",
              "Mystery       1009\n",
              "Fantasy        916\n",
              "Sci-Fi         897\n",
              "Family         754\n",
              "War            512\n",
              "Biography      394\n",
              "Music          371\n",
              "History        358\n",
              "Animation      314\n",
              "Sport          288\n",
              "Musical        260\n",
              "Western        235\n",
              "Film-Noir       40\n",
              "Adult            9\n",
              "News             1\n",
              "Reality-TV       1\n",
              "dtype: int64"
            ]
          },
          "metadata": {},
          "execution_count": 18
        }
      ],
      "source": [
        "#Your code here\n",
        "#sum sums over rows by default\n",
        "\n",
        "freq_gens = data.iloc[:, 7:].sum(axis = 0).sort_values(ascending = False)\n",
        "\n",
        "freq_gens\n",
        "\n",
        "#Drama, Comedy and Triller are most Frequent Genres"
      ]
    },
    {
      "cell_type": "markdown",
      "metadata": {
        "id": "OHjFpQ4KVcdD"
      },
      "source": [
        "__Marks = 2__"
      ]
    },
    {
      "cell_type": "markdown",
      "metadata": {
        "id": "E6qsKfluVcdD"
      },
      "source": [
        "Draw a bar plot to show top ten genres"
      ]
    },
    {
      "cell_type": "code",
      "execution_count": null,
      "metadata": {
        "id": "XCUbJUOrVcdD",
        "outputId": "1b8095ac-2e10-42fb-e5a7-a15510943342",
        "colab": {
          "base_uri": "https://localhost:8080/",
          "height": 505
        }
      },
      "outputs": [
        {
          "output_type": "execute_result",
          "data": {
            "text/plain": [
              "<Axes: >"
            ]
          },
          "metadata": {},
          "execution_count": 19
        },
        {
          "output_type": "display_data",
          "data": {
            "text/plain": [
              "<Figure size 640x480 with 1 Axes>"
            ],
            "image/png": "[encoded data removed]"
          },
          "metadata": {}
        }
      ],
      "source": [
        "#Your code here\n",
        "freq_gens[0:10].plot(kind=\"bar\")"
      ]
    },
    {
      "cell_type": "markdown",
      "metadata": {
        "id": "v09QqR4WVcdD"
      },
      "source": [
        "__Marks = 2__"
      ]
    },
    {
      "cell_type": "markdown",
      "metadata": {
        "id": "aD-TL7CQVcdD"
      },
      "source": [
        "*How many genres does a movie have, on average?*"
      ]
    },
    {
      "cell_type": "code",
      "execution_count": null,
      "metadata": {
        "id": "NNA8-lXPVcdD",
        "outputId": "a3cf77c2-5925-43ab-da0d-ce6f6bc24d4f",
        "colab": {
          "base_uri": "https://localhost:8080/"
        }
      },
      "outputs": [
        {
          "output_type": "stream",
          "name": "stdout",
          "text": [
            "Average number of genres per movie: 2.7538\n"
          ]
        }
      ],
      "source": [
        "#Your code here\n",
        "#axis=1 sums over columns instead\n",
        "\n",
        "data['num_genres'] = data['genres'].astype(str).str.count('\\|') + 1\n",
        "\n",
        "average_num_genres = data['num_genres'].mean()\n",
        "\n",
        "print(\"Average number of genres per movie:\", average_num_genres)"
      ]
    },
    {
      "cell_type": "markdown",
      "metadata": {
        "id": "JHN85oFrVcdD"
      },
      "source": [
        "__Marks = 2__"
      ]
    },
    {
      "cell_type": "markdown",
      "metadata": {
        "id": "AVxAaw9hVcdE"
      },
      "source": [
        "## Explore Group Properties"
      ]
    },
    {
      "cell_type": "markdown",
      "metadata": {
        "id": "vpbcrCujVcdE"
      },
      "source": [
        "Let's split up movies by decade. Find the decade mean score and draw a plot as follows:\n",
        "\n",
        "<img src=/content/score-year-plot.png>"
      ]
    },
    {
      "cell_type": "code",
      "execution_count": null,
      "metadata": {
        "id": "2lyVaoEJVcdE",
        "outputId": "f0425415-5d30-4c96-9871-4f1d707f67f2",
        "colab": {
          "base_uri": "https://localhost:8080/",
          "height": 472
        }
      },
      "outputs": [
        {
          "output_type": "execute_result",
          "data": {
            "text/plain": [
              "<matplotlib.legend.Legend at 0x7f6e340f7c40>"
            ]
          },
          "metadata": {},
          "execution_count": 21
        },
        {
          "output_type": "display_data",
          "data": {
            "text/plain": [
              "<Figure size 640x480 with 1 Axes>"
            ],
            "image/png": "[encoded data removed]"
          },
          "metadata": {}
        }
      ],
      "source": [
        "#Your code here\n",
        "data['decade'] = (data['year']//10) * 10\n",
        "trend = data.groupby(['decade'])['score'].mean()\n",
        "data.plot.scatter(x = 'year', y = 'score', color = 'k', alpha = 0.03)\n",
        "plt.ylim(1, 10)\n",
        "plt.xlim(1940, 2020)\n",
        "plt.plot(trend, 'r-o' , label = \"Decade Average\")\n",
        "plt.legend(loc=\"upper right\")"
      ]
    },
    {
      "cell_type": "markdown",
      "metadata": {
        "id": "yDo61F47VcdE"
      },
      "source": [
        "__Marks = 5__"
      ]
    },
    {
      "cell_type": "markdown",
      "metadata": {
        "id": "Wk0kEgESVcdE"
      },
      "source": [
        "Find the most popular movie each year\n"
      ]
    },
    {
      "cell_type": "code",
      "execution_count": null,
      "metadata": {
        "id": "r-4dx1bFVcdE",
        "outputId": "c11c3274-4c9e-48e8-8406-c3c6391bc360",
        "colab": {
          "base_uri": "https://localhost:8080/",
          "height": 1000
        }
      },
      "outputs": [
        {
          "output_type": "display_data",
          "data": {
            "text/plain": [
              "<Figure size 640x480 with 1 Axes>"
            ],
            "image/png": "[encoded data removed]"
          },
          "metadata": {}
        },
        {
          "output_type": "stream",
          "name": "stdout",
          "text": [
            " Year                                                          Movie Title\n",
            " 1950                                                         Sunset Blvd.\n",
            " 1951                                                 Strangers on a Train\n",
            " 1952                                                  Singin' in the Rain\n",
            " 1953                                                        Roman Holiday\n",
            " 1954                                                          Rear Window\n",
            " 1955                                                Rebel Without a Cause\n",
            " 1956                                                        The Searchers\n",
            " 1957                                                         12 Angry Men\n",
            " 1958                                                              Vertigo\n",
            " 1959                                                   North by Northwest\n",
            " 1960                                                               Psycho\n",
            " 1961                                               Breakfast at Tiffany's\n",
            " 1962                                                To Kill a Mockingbird\n",
            " 1963                                                     The Great Escape\n",
            " 1964 Dr. Strangelove or: How I Learned to Stop Worrying and Love the Bomb\n",
            " 1965                                                   The Sound of Music\n",
            " 1966                                       The Good, the Bad and the Ugly\n",
            " 1967                                                         The Graduate\n",
            " 1968                                                2001: A Space Odyssey\n",
            " 1969                                   Butch Cassidy and the Sundance Kid\n",
            " 1970                                                               Patton\n",
            " 1971                                                   A Clockwork Orange\n",
            " 1972                                                        The Godfather\n",
            " 1973                                                         The Exorcist\n",
            " 1974                                               The Godfather: Part II\n",
            " 1975                                      One Flew Over the Cuckoo's Nest\n",
            " 1976                                                          Taxi Driver\n",
            " 1977                                   Star Wars: Episode IV - A New Hope\n",
            " 1978                                                      The Deer Hunter\n",
            " 1979                                                                Alien\n",
            " 1980                       Star Wars: Episode V - The Empire Strikes Back\n",
            " 1981                                              Raiders of the Lost Ark\n",
            " 1982                                                         Blade Runner\n",
            " 1983                           Star Wars: Episode VI - Return of the Jedi\n",
            " 1984                                                       The Terminator\n",
            " 1985                                                   Back to the Future\n",
            " 1986                                                               Aliens\n",
            " 1987                                                    Full Metal Jacket\n",
            " 1988                                                             Die Hard\n",
            " 1989                                   Indiana Jones and the Last Crusade\n",
            " 1990                                                           Goodfellas\n",
            " 1991                                             The Silence of the Lambs\n",
            " 1992                                                       Reservoir Dogs\n",
            " 1993                                                     Schindler's List\n",
            " 1994                                             The Shawshank Redemption\n",
            " 1995                                                                Se7en\n",
            " 1996                                                                Fargo\n",
            " 1997                                                              Titanic\n",
            " 1998                                                  Saving Private Ryan\n",
            " 1999                                                           Fight Club\n",
            " 2000                                                            Gladiator\n",
            " 2001                    The Lord of the Rings: The Fellowship of the Ring\n",
            " 2002                                The Lord of the Rings: The Two Towers\n",
            " 2003                        The Lord of the Rings: The Return of the King\n",
            " 2004                                Eternal Sunshine of the Spotless Mind\n",
            " 2005                                                        Batman Begins\n",
            " 2006                                                         The Departed\n",
            " 2007                                               No Country for Old Men\n",
            " 2008                                                      The Dark Knight\n",
            " 2009                                                               Avatar\n",
            " 2010                                                            Inception\n",
            " 2011                                                   X-Men: First Class\n"
          ]
        }
      ],
      "source": [
        "#Your code here\n",
        "sorted_movies = data.sort_values(['year', 'votes'], ascending=[True, False])\n",
        "popular_movies = sorted_movies.groupby('year').first().reset_index()\n",
        "plt.plot(popular_movies['year'], popular_movies['votes'], marker='o')\n",
        "plt.xlabel('Year')\n",
        "plt.ylabel('Votes')\n",
        "plt.title('Most Popular Movie Each Year')\n",
        "plt.xticks(rotation=90)\n",
        "plt.tight_layout()\n",
        "plt.show()\n",
        "\n",
        "# Display the names in a table\n",
        "popular_movie_names = popular_movies[['year', 'title']]\n",
        "popular_movie_names.columns = ['Year', 'Movie Title']\n",
        "print(popular_movie_names.to_string(index=False))\n",
        "\n"
      ]
    },
    {
      "cell_type": "markdown",
      "metadata": {
        "id": "Pn2TQx_6VcdE"
      },
      "source": [
        "__Marks = 2__"
      ]
    }
  ],
  "metadata": {
    "kernelspec": {
      "display_name": "Python 3 (ipykernel)",
      "language": "python",
      "name": "python3"
    },
    "language_info": {
      "codemirror_mode": {
        "name": "ipython",
        "version": 3
      },
      "file_extension": ".py",
      "mimetype": "text/x-python",
      "name": "python",
      "nbconvert_exporter": "python",
      "pygments_lexer": "ipython3",
      "version": "3.9.15"
    },
    "colab": {
      "provenance": [],
      "include_colab_link": true
    }
  },
  "nbformat": 4,
  "nbformat_minor": 0
}